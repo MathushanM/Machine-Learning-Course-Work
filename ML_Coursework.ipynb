{
 "cells": [
  {
   "cell_type": "code",
   "execution_count": 1,
   "metadata": {
    "collapsed": true
   },
   "outputs": [],
   "source": [
    "# Importing necessary libraries (\"INL\")\n",
    "import pandas as pd\n",
    "import re # A regular Expression"
   ]
  },
  {
   "cell_type": "code",
   "execution_count": 2,
   "outputs": [
    {
     "data": {
      "text/plain": "array([[0.000e+00, 6.400e-01, 6.400e-01, ..., 6.100e+01, 2.780e+02,\n        1.000e+00],\n       [2.100e-01, 2.800e-01, 5.000e-01, ..., 1.010e+02, 1.028e+03,\n        1.000e+00],\n       [6.000e-02, 0.000e+00, 7.100e-01, ..., 4.850e+02, 2.259e+03,\n        1.000e+00],\n       ...,\n       [3.000e-01, 0.000e+00, 3.000e-01, ..., 6.000e+00, 1.180e+02,\n        0.000e+00],\n       [9.600e-01, 0.000e+00, 0.000e+00, ..., 5.000e+00, 7.800e+01,\n        0.000e+00],\n       [0.000e+00, 0.000e+00, 6.500e-01, ..., 5.000e+00, 4.000e+01,\n        0.000e+00]])"
     },
     "execution_count": 2,
     "metadata": {},
     "output_type": "execute_result"
    }
   ],
   "source": [
    "with open(\"spambase.names\") as spam:\n",
    "    text = spam.read()\n",
    "labels = re.findall(r'\\n(\\w*_?\\W?):', text)\n",
    "data_set = pd.read_csv(\"spambase.data\", header=None, names=labels +['spam'])\n",
    "Data_array=data_set.values\n",
    "Data_array"
   ],
   "metadata": {
    "collapsed": false
   }
  },
  {
   "cell_type": "code",
   "execution_count": 3,
   "outputs": [
    {
     "data": {
      "text/plain": "0       False\n1       False\n2       False\n3       False\n4       False\n        ...  \n4596    False\n4597    False\n4598    False\n4599    False\n4600    False\nLength: 4601, dtype: bool"
     },
     "execution_count": 3,
     "metadata": {},
     "output_type": "execute_result"
    }
   ],
   "source": [
    "data_set.duplicated()"
   ],
   "metadata": {
    "collapsed": false
   }
  },
  {
   "cell_type": "code",
   "execution_count": 4,
   "outputs": [
    {
     "data": {
      "text/plain": "      word_freq_make  word_freq_address  word_freq_all  word_freq_3d  \\\n0               0.00               0.64           0.64           0.0   \n1               0.21               0.28           0.50           0.0   \n2               0.06               0.00           0.71           0.0   \n3               0.00               0.00           0.00           0.0   \n4               0.00               0.00           0.00           0.0   \n...              ...                ...            ...           ...   \n4596            0.31               0.00           0.62           0.0   \n4597            0.00               0.00           0.00           0.0   \n4598            0.30               0.00           0.30           0.0   \n4599            0.96               0.00           0.00           0.0   \n4600            0.00               0.00           0.65           0.0   \n\n      word_freq_our  word_freq_over  word_freq_remove  word_freq_internet  \\\n0              0.32            0.00              0.00                0.00   \n1              0.14            0.28              0.21                0.07   \n2              1.23            0.19              0.19                0.12   \n3              0.63            0.00              0.31                0.63   \n4              0.63            0.00              0.31                0.63   \n...             ...             ...               ...                 ...   \n4596           0.00            0.31              0.00                0.00   \n4597           0.00            0.00              0.00                0.00   \n4598           0.00            0.00              0.00                0.00   \n4599           0.32            0.00              0.00                0.00   \n4600           0.00            0.00              0.00                0.00   \n\n      word_freq_order  word_freq_mail  ...  char_freq_;  char_freq_(  \\\n0                0.00            0.00  ...        0.000        0.000   \n1                0.00            0.94  ...        0.000        0.132   \n2                0.64            0.25  ...        0.010        0.143   \n3                0.31            0.63  ...        0.000        0.137   \n4                0.31            0.63  ...        0.000        0.135   \n...               ...             ...  ...          ...          ...   \n4596             0.00            0.00  ...        0.000        0.232   \n4597             0.00            0.00  ...        0.000        0.000   \n4598             0.00            0.00  ...        0.102        0.718   \n4599             0.00            0.00  ...        0.000        0.057   \n4600             0.00            0.00  ...        0.000        0.000   \n\n      char_freq_[  char_freq_!  char_freq_$  char_freq_#  \\\n0             0.0        0.778        0.000        0.000   \n1             0.0        0.372        0.180        0.048   \n2             0.0        0.276        0.184        0.010   \n3             0.0        0.137        0.000        0.000   \n4             0.0        0.135        0.000        0.000   \n...           ...          ...          ...          ...   \n4596          0.0        0.000        0.000        0.000   \n4597          0.0        0.353        0.000        0.000   \n4598          0.0        0.000        0.000        0.000   \n4599          0.0        0.000        0.000        0.000   \n4600          0.0        0.125        0.000        0.000   \n\n      capital_run_length_average  capital_run_length_longest  \\\n0                          3.756                          61   \n1                          5.114                         101   \n2                          9.821                         485   \n3                          3.537                          40   \n4                          3.537                          40   \n...                          ...                         ...   \n4596                       1.142                           3   \n4597                       1.555                           4   \n4598                       1.404                           6   \n4599                       1.147                           5   \n4600                       1.250                           5   \n\n      capital_run_length_total  spam  \n0                          278     1  \n1                         1028     1  \n2                         2259     1  \n3                          191     1  \n4                          191     1  \n...                        ...   ...  \n4596                        88     0  \n4597                        14     0  \n4598                       118     0  \n4599                        78     0  \n4600                        40     0  \n\n[4210 rows x 58 columns]",
      "text/html": "<div>\n<style scoped>\n    .dataframe tbody tr th:only-of-type {\n        vertical-align: middle;\n    }\n\n    .dataframe tbody tr th {\n        vertical-align: top;\n    }\n\n    .dataframe thead th {\n        text-align: right;\n    }\n</style>\n<table border=\"1\" class=\"dataframe\">\n  <thead>\n    <tr style=\"text-align: right;\">\n      <th></th>\n      <th>word_freq_make</th>\n      <th>word_freq_address</th>\n      <th>word_freq_all</th>\n      <th>word_freq_3d</th>\n      <th>word_freq_our</th>\n      <th>word_freq_over</th>\n      <th>word_freq_remove</th>\n      <th>word_freq_internet</th>\n      <th>word_freq_order</th>\n      <th>word_freq_mail</th>\n      <th>...</th>\n      <th>char_freq_;</th>\n      <th>char_freq_(</th>\n      <th>char_freq_[</th>\n      <th>char_freq_!</th>\n      <th>char_freq_$</th>\n      <th>char_freq_#</th>\n      <th>capital_run_length_average</th>\n      <th>capital_run_length_longest</th>\n      <th>capital_run_length_total</th>\n      <th>spam</th>\n    </tr>\n  </thead>\n  <tbody>\n    <tr>\n      <th>0</th>\n      <td>0.00</td>\n      <td>0.64</td>\n      <td>0.64</td>\n      <td>0.0</td>\n      <td>0.32</td>\n      <td>0.00</td>\n      <td>0.00</td>\n      <td>0.00</td>\n      <td>0.00</td>\n      <td>0.00</td>\n      <td>...</td>\n      <td>0.000</td>\n      <td>0.000</td>\n      <td>0.0</td>\n      <td>0.778</td>\n      <td>0.000</td>\n      <td>0.000</td>\n      <td>3.756</td>\n      <td>61</td>\n      <td>278</td>\n      <td>1</td>\n    </tr>\n    <tr>\n      <th>1</th>\n      <td>0.21</td>\n      <td>0.28</td>\n      <td>0.50</td>\n      <td>0.0</td>\n      <td>0.14</td>\n      <td>0.28</td>\n      <td>0.21</td>\n      <td>0.07</td>\n      <td>0.00</td>\n      <td>0.94</td>\n      <td>...</td>\n      <td>0.000</td>\n      <td>0.132</td>\n      <td>0.0</td>\n      <td>0.372</td>\n      <td>0.180</td>\n      <td>0.048</td>\n      <td>5.114</td>\n      <td>101</td>\n      <td>1028</td>\n      <td>1</td>\n    </tr>\n    <tr>\n      <th>2</th>\n      <td>0.06</td>\n      <td>0.00</td>\n      <td>0.71</td>\n      <td>0.0</td>\n      <td>1.23</td>\n      <td>0.19</td>\n      <td>0.19</td>\n      <td>0.12</td>\n      <td>0.64</td>\n      <td>0.25</td>\n      <td>...</td>\n      <td>0.010</td>\n      <td>0.143</td>\n      <td>0.0</td>\n      <td>0.276</td>\n      <td>0.184</td>\n      <td>0.010</td>\n      <td>9.821</td>\n      <td>485</td>\n      <td>2259</td>\n      <td>1</td>\n    </tr>\n    <tr>\n      <th>3</th>\n      <td>0.00</td>\n      <td>0.00</td>\n      <td>0.00</td>\n      <td>0.0</td>\n      <td>0.63</td>\n      <td>0.00</td>\n      <td>0.31</td>\n      <td>0.63</td>\n      <td>0.31</td>\n      <td>0.63</td>\n      <td>...</td>\n      <td>0.000</td>\n      <td>0.137</td>\n      <td>0.0</td>\n      <td>0.137</td>\n      <td>0.000</td>\n      <td>0.000</td>\n      <td>3.537</td>\n      <td>40</td>\n      <td>191</td>\n      <td>1</td>\n    </tr>\n    <tr>\n      <th>4</th>\n      <td>0.00</td>\n      <td>0.00</td>\n      <td>0.00</td>\n      <td>0.0</td>\n      <td>0.63</td>\n      <td>0.00</td>\n      <td>0.31</td>\n      <td>0.63</td>\n      <td>0.31</td>\n      <td>0.63</td>\n      <td>...</td>\n      <td>0.000</td>\n      <td>0.135</td>\n      <td>0.0</td>\n      <td>0.135</td>\n      <td>0.000</td>\n      <td>0.000</td>\n      <td>3.537</td>\n      <td>40</td>\n      <td>191</td>\n      <td>1</td>\n    </tr>\n    <tr>\n      <th>...</th>\n      <td>...</td>\n      <td>...</td>\n      <td>...</td>\n      <td>...</td>\n      <td>...</td>\n      <td>...</td>\n      <td>...</td>\n      <td>...</td>\n      <td>...</td>\n      <td>...</td>\n      <td>...</td>\n      <td>...</td>\n      <td>...</td>\n      <td>...</td>\n      <td>...</td>\n      <td>...</td>\n      <td>...</td>\n      <td>...</td>\n      <td>...</td>\n      <td>...</td>\n      <td>...</td>\n    </tr>\n    <tr>\n      <th>4596</th>\n      <td>0.31</td>\n      <td>0.00</td>\n      <td>0.62</td>\n      <td>0.0</td>\n      <td>0.00</td>\n      <td>0.31</td>\n      <td>0.00</td>\n      <td>0.00</td>\n      <td>0.00</td>\n      <td>0.00</td>\n      <td>...</td>\n      <td>0.000</td>\n      <td>0.232</td>\n      <td>0.0</td>\n      <td>0.000</td>\n      <td>0.000</td>\n      <td>0.000</td>\n      <td>1.142</td>\n      <td>3</td>\n      <td>88</td>\n      <td>0</td>\n    </tr>\n    <tr>\n      <th>4597</th>\n      <td>0.00</td>\n      <td>0.00</td>\n      <td>0.00</td>\n      <td>0.0</td>\n      <td>0.00</td>\n      <td>0.00</td>\n      <td>0.00</td>\n      <td>0.00</td>\n      <td>0.00</td>\n      <td>0.00</td>\n      <td>...</td>\n      <td>0.000</td>\n      <td>0.000</td>\n      <td>0.0</td>\n      <td>0.353</td>\n      <td>0.000</td>\n      <td>0.000</td>\n      <td>1.555</td>\n      <td>4</td>\n      <td>14</td>\n      <td>0</td>\n    </tr>\n    <tr>\n      <th>4598</th>\n      <td>0.30</td>\n      <td>0.00</td>\n      <td>0.30</td>\n      <td>0.0</td>\n      <td>0.00</td>\n      <td>0.00</td>\n      <td>0.00</td>\n      <td>0.00</td>\n      <td>0.00</td>\n      <td>0.00</td>\n      <td>...</td>\n      <td>0.102</td>\n      <td>0.718</td>\n      <td>0.0</td>\n      <td>0.000</td>\n      <td>0.000</td>\n      <td>0.000</td>\n      <td>1.404</td>\n      <td>6</td>\n      <td>118</td>\n      <td>0</td>\n    </tr>\n    <tr>\n      <th>4599</th>\n      <td>0.96</td>\n      <td>0.00</td>\n      <td>0.00</td>\n      <td>0.0</td>\n      <td>0.32</td>\n      <td>0.00</td>\n      <td>0.00</td>\n      <td>0.00</td>\n      <td>0.00</td>\n      <td>0.00</td>\n      <td>...</td>\n      <td>0.000</td>\n      <td>0.057</td>\n      <td>0.0</td>\n      <td>0.000</td>\n      <td>0.000</td>\n      <td>0.000</td>\n      <td>1.147</td>\n      <td>5</td>\n      <td>78</td>\n      <td>0</td>\n    </tr>\n    <tr>\n      <th>4600</th>\n      <td>0.00</td>\n      <td>0.00</td>\n      <td>0.65</td>\n      <td>0.0</td>\n      <td>0.00</td>\n      <td>0.00</td>\n      <td>0.00</td>\n      <td>0.00</td>\n      <td>0.00</td>\n      <td>0.00</td>\n      <td>...</td>\n      <td>0.000</td>\n      <td>0.000</td>\n      <td>0.0</td>\n      <td>0.125</td>\n      <td>0.000</td>\n      <td>0.000</td>\n      <td>1.250</td>\n      <td>5</td>\n      <td>40</td>\n      <td>0</td>\n    </tr>\n  </tbody>\n</table>\n<p>4210 rows × 58 columns</p>\n</div>"
     },
     "execution_count": 4,
     "metadata": {},
     "output_type": "execute_result"
    }
   ],
   "source": [
    "data_set.drop_duplicates()"
   ],
   "metadata": {
    "collapsed": false
   }
  },
  {
   "cell_type": "code",
   "execution_count": 5,
   "outputs": [
    {
     "data": {
      "text/plain": "word_freq_make                0\nword_freq_address             0\nword_freq_all                 0\nword_freq_3d                  0\nword_freq_our                 0\nword_freq_over                0\nword_freq_remove              0\nword_freq_internet            0\nword_freq_order               0\nword_freq_mail                0\nword_freq_receive             0\nword_freq_will                0\nword_freq_people              0\nword_freq_report              0\nword_freq_addresses           0\nword_freq_free                0\nword_freq_business            0\nword_freq_email               0\nword_freq_you                 0\nword_freq_credit              0\nword_freq_your                0\nword_freq_font                0\nword_freq_000                 0\nword_freq_money               0\nword_freq_hp                  0\nword_freq_hpl                 0\nword_freq_george              0\nword_freq_650                 0\nword_freq_lab                 0\nword_freq_labs                0\nword_freq_telnet              0\nword_freq_857                 0\nword_freq_data                0\nword_freq_415                 0\nword_freq_85                  0\nword_freq_technology          0\nword_freq_1999                0\nword_freq_parts               0\nword_freq_pm                  0\nword_freq_direct              0\nword_freq_cs                  0\nword_freq_meeting             0\nword_freq_original            0\nword_freq_project             0\nword_freq_re                  0\nword_freq_edu                 0\nword_freq_table               0\nword_freq_conference          0\nchar_freq_;                   0\nchar_freq_(                   0\nchar_freq_[                   0\nchar_freq_!                   0\nchar_freq_$                   0\nchar_freq_#                   0\ncapital_run_length_average    0\ncapital_run_length_longest    0\ncapital_run_length_total      0\nspam                          0\ndtype: int64"
     },
     "execution_count": 5,
     "metadata": {},
     "output_type": "execute_result"
    }
   ],
   "source": [
    "data_set.isna().sum()"
   ],
   "metadata": {
    "collapsed": false
   }
  },
  {
   "cell_type": "code",
   "execution_count": 6,
   "outputs": [
    {
     "data": {
      "text/plain": "   word_freq_make  word_freq_address  word_freq_all  word_freq_3d  \\\n0            0.00               0.64           0.64           0.0   \n1            0.21               0.28           0.50           0.0   \n2            0.06               0.00           0.71           0.0   \n3            0.00               0.00           0.00           0.0   \n4            0.00               0.00           0.00           0.0   \n\n   word_freq_our  word_freq_over  word_freq_remove  word_freq_internet  \\\n0           0.32            0.00              0.00                0.00   \n1           0.14            0.28              0.21                0.07   \n2           1.23            0.19              0.19                0.12   \n3           0.63            0.00              0.31                0.63   \n4           0.63            0.00              0.31                0.63   \n\n   word_freq_order  word_freq_mail  ...  word_freq_conference  char_freq_;  \\\n0             0.00            0.00  ...                   0.0         0.00   \n1             0.00            0.94  ...                   0.0         0.00   \n2             0.64            0.25  ...                   0.0         0.01   \n3             0.31            0.63  ...                   0.0         0.00   \n4             0.31            0.63  ...                   0.0         0.00   \n\n   char_freq_(  char_freq_[  char_freq_!  char_freq_$  char_freq_#  \\\n0        0.000          0.0        0.778        0.000        0.000   \n1        0.132          0.0        0.372        0.180        0.048   \n2        0.143          0.0        0.276        0.184        0.010   \n3        0.137          0.0        0.137        0.000        0.000   \n4        0.135          0.0        0.135        0.000        0.000   \n\n   capital_run_length_average  capital_run_length_longest  \\\n0                       3.756                          61   \n1                       5.114                         101   \n2                       9.821                         485   \n3                       3.537                          40   \n4                       3.537                          40   \n\n   capital_run_length_total  \n0                       278  \n1                      1028  \n2                      2259  \n3                       191  \n4                       191  \n\n[5 rows x 57 columns]",
      "text/html": "<div>\n<style scoped>\n    .dataframe tbody tr th:only-of-type {\n        vertical-align: middle;\n    }\n\n    .dataframe tbody tr th {\n        vertical-align: top;\n    }\n\n    .dataframe thead th {\n        text-align: right;\n    }\n</style>\n<table border=\"1\" class=\"dataframe\">\n  <thead>\n    <tr style=\"text-align: right;\">\n      <th></th>\n      <th>word_freq_make</th>\n      <th>word_freq_address</th>\n      <th>word_freq_all</th>\n      <th>word_freq_3d</th>\n      <th>word_freq_our</th>\n      <th>word_freq_over</th>\n      <th>word_freq_remove</th>\n      <th>word_freq_internet</th>\n      <th>word_freq_order</th>\n      <th>word_freq_mail</th>\n      <th>...</th>\n      <th>word_freq_conference</th>\n      <th>char_freq_;</th>\n      <th>char_freq_(</th>\n      <th>char_freq_[</th>\n      <th>char_freq_!</th>\n      <th>char_freq_$</th>\n      <th>char_freq_#</th>\n      <th>capital_run_length_average</th>\n      <th>capital_run_length_longest</th>\n      <th>capital_run_length_total</th>\n    </tr>\n  </thead>\n  <tbody>\n    <tr>\n      <th>0</th>\n      <td>0.00</td>\n      <td>0.64</td>\n      <td>0.64</td>\n      <td>0.0</td>\n      <td>0.32</td>\n      <td>0.00</td>\n      <td>0.00</td>\n      <td>0.00</td>\n      <td>0.00</td>\n      <td>0.00</td>\n      <td>...</td>\n      <td>0.0</td>\n      <td>0.00</td>\n      <td>0.000</td>\n      <td>0.0</td>\n      <td>0.778</td>\n      <td>0.000</td>\n      <td>0.000</td>\n      <td>3.756</td>\n      <td>61</td>\n      <td>278</td>\n    </tr>\n    <tr>\n      <th>1</th>\n      <td>0.21</td>\n      <td>0.28</td>\n      <td>0.50</td>\n      <td>0.0</td>\n      <td>0.14</td>\n      <td>0.28</td>\n      <td>0.21</td>\n      <td>0.07</td>\n      <td>0.00</td>\n      <td>0.94</td>\n      <td>...</td>\n      <td>0.0</td>\n      <td>0.00</td>\n      <td>0.132</td>\n      <td>0.0</td>\n      <td>0.372</td>\n      <td>0.180</td>\n      <td>0.048</td>\n      <td>5.114</td>\n      <td>101</td>\n      <td>1028</td>\n    </tr>\n    <tr>\n      <th>2</th>\n      <td>0.06</td>\n      <td>0.00</td>\n      <td>0.71</td>\n      <td>0.0</td>\n      <td>1.23</td>\n      <td>0.19</td>\n      <td>0.19</td>\n      <td>0.12</td>\n      <td>0.64</td>\n      <td>0.25</td>\n      <td>...</td>\n      <td>0.0</td>\n      <td>0.01</td>\n      <td>0.143</td>\n      <td>0.0</td>\n      <td>0.276</td>\n      <td>0.184</td>\n      <td>0.010</td>\n      <td>9.821</td>\n      <td>485</td>\n      <td>2259</td>\n    </tr>\n    <tr>\n      <th>3</th>\n      <td>0.00</td>\n      <td>0.00</td>\n      <td>0.00</td>\n      <td>0.0</td>\n      <td>0.63</td>\n      <td>0.00</td>\n      <td>0.31</td>\n      <td>0.63</td>\n      <td>0.31</td>\n      <td>0.63</td>\n      <td>...</td>\n      <td>0.0</td>\n      <td>0.00</td>\n      <td>0.137</td>\n      <td>0.0</td>\n      <td>0.137</td>\n      <td>0.000</td>\n      <td>0.000</td>\n      <td>3.537</td>\n      <td>40</td>\n      <td>191</td>\n    </tr>\n    <tr>\n      <th>4</th>\n      <td>0.00</td>\n      <td>0.00</td>\n      <td>0.00</td>\n      <td>0.0</td>\n      <td>0.63</td>\n      <td>0.00</td>\n      <td>0.31</td>\n      <td>0.63</td>\n      <td>0.31</td>\n      <td>0.63</td>\n      <td>...</td>\n      <td>0.0</td>\n      <td>0.00</td>\n      <td>0.135</td>\n      <td>0.0</td>\n      <td>0.135</td>\n      <td>0.000</td>\n      <td>0.000</td>\n      <td>3.537</td>\n      <td>40</td>\n      <td>191</td>\n    </tr>\n  </tbody>\n</table>\n<p>5 rows × 57 columns</p>\n</div>"
     },
     "execution_count": 6,
     "metadata": {},
     "output_type": "execute_result"
    }
   ],
   "source": [
    "data = data_set.drop(labels=['spam'], axis=1)\n",
    "data.head()"
   ],
   "metadata": {
    "collapsed": false
   }
  },
  {
   "cell_type": "code",
   "execution_count": 7,
   "outputs": [
    {
     "data": {
      "text/plain": "       word_freq_make  word_freq_address  word_freq_all  word_freq_3d  \\\ncount     4601.000000        4601.000000    4601.000000   4601.000000   \nmean         0.104553           0.213015       0.280656      0.065425   \nstd          0.305358           1.290575       0.504143      1.395151   \nmin          0.000000           0.000000       0.000000      0.000000   \n25%          0.000000           0.000000       0.000000      0.000000   \n50%          0.000000           0.000000       0.000000      0.000000   \n75%          0.000000           0.000000       0.420000      0.000000   \nmax          4.540000          14.280000       5.100000     42.810000   \n\n       word_freq_our  word_freq_over  word_freq_remove  word_freq_internet  \\\ncount    4601.000000     4601.000000       4601.000000         4601.000000   \nmean        0.312223        0.095901          0.114208            0.105295   \nstd         0.672513        0.273824          0.391441            0.401071   \nmin         0.000000        0.000000          0.000000            0.000000   \n25%         0.000000        0.000000          0.000000            0.000000   \n50%         0.000000        0.000000          0.000000            0.000000   \n75%         0.380000        0.000000          0.000000            0.000000   \nmax        10.000000        5.880000          7.270000           11.110000   \n\n       word_freq_order  word_freq_mail  ...  word_freq_conference  \\\ncount      4601.000000     4601.000000  ...           4601.000000   \nmean          0.090067        0.239413  ...              0.031869   \nstd           0.278616        0.644755  ...              0.285735   \nmin           0.000000        0.000000  ...              0.000000   \n25%           0.000000        0.000000  ...              0.000000   \n50%           0.000000        0.000000  ...              0.000000   \n75%           0.000000        0.160000  ...              0.000000   \nmax           5.260000       18.180000  ...             10.000000   \n\n       char_freq_;  char_freq_(  char_freq_[  char_freq_!  char_freq_$  \\\ncount  4601.000000  4601.000000  4601.000000  4601.000000  4601.000000   \nmean      0.038575     0.139030     0.016976     0.269071     0.075811   \nstd       0.243471     0.270355     0.109394     0.815672     0.245882   \nmin       0.000000     0.000000     0.000000     0.000000     0.000000   \n25%       0.000000     0.000000     0.000000     0.000000     0.000000   \n50%       0.000000     0.065000     0.000000     0.000000     0.000000   \n75%       0.000000     0.188000     0.000000     0.315000     0.052000   \nmax       4.385000     9.752000     4.081000    32.478000     6.003000   \n\n       char_freq_#  capital_run_length_average  capital_run_length_longest  \\\ncount  4601.000000                 4601.000000                 4601.000000   \nmean      0.044238                    5.191515                   52.172789   \nstd       0.429342                   31.729449                  194.891310   \nmin       0.000000                    1.000000                    1.000000   \n25%       0.000000                    1.588000                    6.000000   \n50%       0.000000                    2.276000                   15.000000   \n75%       0.000000                    3.706000                   43.000000   \nmax      19.829000                 1102.500000                 9989.000000   \n\n       capital_run_length_total  \ncount               4601.000000  \nmean                 283.289285  \nstd                  606.347851  \nmin                    1.000000  \n25%                   35.000000  \n50%                   95.000000  \n75%                  266.000000  \nmax                15841.000000  \n\n[8 rows x 57 columns]",
      "text/html": "<div>\n<style scoped>\n    .dataframe tbody tr th:only-of-type {\n        vertical-align: middle;\n    }\n\n    .dataframe tbody tr th {\n        vertical-align: top;\n    }\n\n    .dataframe thead th {\n        text-align: right;\n    }\n</style>\n<table border=\"1\" class=\"dataframe\">\n  <thead>\n    <tr style=\"text-align: right;\">\n      <th></th>\n      <th>word_freq_make</th>\n      <th>word_freq_address</th>\n      <th>word_freq_all</th>\n      <th>word_freq_3d</th>\n      <th>word_freq_our</th>\n      <th>word_freq_over</th>\n      <th>word_freq_remove</th>\n      <th>word_freq_internet</th>\n      <th>word_freq_order</th>\n      <th>word_freq_mail</th>\n      <th>...</th>\n      <th>word_freq_conference</th>\n      <th>char_freq_;</th>\n      <th>char_freq_(</th>\n      <th>char_freq_[</th>\n      <th>char_freq_!</th>\n      <th>char_freq_$</th>\n      <th>char_freq_#</th>\n      <th>capital_run_length_average</th>\n      <th>capital_run_length_longest</th>\n      <th>capital_run_length_total</th>\n    </tr>\n  </thead>\n  <tbody>\n    <tr>\n      <th>count</th>\n      <td>4601.000000</td>\n      <td>4601.000000</td>\n      <td>4601.000000</td>\n      <td>4601.000000</td>\n      <td>4601.000000</td>\n      <td>4601.000000</td>\n      <td>4601.000000</td>\n      <td>4601.000000</td>\n      <td>4601.000000</td>\n      <td>4601.000000</td>\n      <td>...</td>\n      <td>4601.000000</td>\n      <td>4601.000000</td>\n      <td>4601.000000</td>\n      <td>4601.000000</td>\n      <td>4601.000000</td>\n      <td>4601.000000</td>\n      <td>4601.000000</td>\n      <td>4601.000000</td>\n      <td>4601.000000</td>\n      <td>4601.000000</td>\n    </tr>\n    <tr>\n      <th>mean</th>\n      <td>0.104553</td>\n      <td>0.213015</td>\n      <td>0.280656</td>\n      <td>0.065425</td>\n      <td>0.312223</td>\n      <td>0.095901</td>\n      <td>0.114208</td>\n      <td>0.105295</td>\n      <td>0.090067</td>\n      <td>0.239413</td>\n      <td>...</td>\n      <td>0.031869</td>\n      <td>0.038575</td>\n      <td>0.139030</td>\n      <td>0.016976</td>\n      <td>0.269071</td>\n      <td>0.075811</td>\n      <td>0.044238</td>\n      <td>5.191515</td>\n      <td>52.172789</td>\n      <td>283.289285</td>\n    </tr>\n    <tr>\n      <th>std</th>\n      <td>0.305358</td>\n      <td>1.290575</td>\n      <td>0.504143</td>\n      <td>1.395151</td>\n      <td>0.672513</td>\n      <td>0.273824</td>\n      <td>0.391441</td>\n      <td>0.401071</td>\n      <td>0.278616</td>\n      <td>0.644755</td>\n      <td>...</td>\n      <td>0.285735</td>\n      <td>0.243471</td>\n      <td>0.270355</td>\n      <td>0.109394</td>\n      <td>0.815672</td>\n      <td>0.245882</td>\n      <td>0.429342</td>\n      <td>31.729449</td>\n      <td>194.891310</td>\n      <td>606.347851</td>\n    </tr>\n    <tr>\n      <th>min</th>\n      <td>0.000000</td>\n      <td>0.000000</td>\n      <td>0.000000</td>\n      <td>0.000000</td>\n      <td>0.000000</td>\n      <td>0.000000</td>\n      <td>0.000000</td>\n      <td>0.000000</td>\n      <td>0.000000</td>\n      <td>0.000000</td>\n      <td>...</td>\n      <td>0.000000</td>\n      <td>0.000000</td>\n      <td>0.000000</td>\n      <td>0.000000</td>\n      <td>0.000000</td>\n      <td>0.000000</td>\n      <td>0.000000</td>\n      <td>1.000000</td>\n      <td>1.000000</td>\n      <td>1.000000</td>\n    </tr>\n    <tr>\n      <th>25%</th>\n      <td>0.000000</td>\n      <td>0.000000</td>\n      <td>0.000000</td>\n      <td>0.000000</td>\n      <td>0.000000</td>\n      <td>0.000000</td>\n      <td>0.000000</td>\n      <td>0.000000</td>\n      <td>0.000000</td>\n      <td>0.000000</td>\n      <td>...</td>\n      <td>0.000000</td>\n      <td>0.000000</td>\n      <td>0.000000</td>\n      <td>0.000000</td>\n      <td>0.000000</td>\n      <td>0.000000</td>\n      <td>0.000000</td>\n      <td>1.588000</td>\n      <td>6.000000</td>\n      <td>35.000000</td>\n    </tr>\n    <tr>\n      <th>50%</th>\n      <td>0.000000</td>\n      <td>0.000000</td>\n      <td>0.000000</td>\n      <td>0.000000</td>\n      <td>0.000000</td>\n      <td>0.000000</td>\n      <td>0.000000</td>\n      <td>0.000000</td>\n      <td>0.000000</td>\n      <td>0.000000</td>\n      <td>...</td>\n      <td>0.000000</td>\n      <td>0.000000</td>\n      <td>0.065000</td>\n      <td>0.000000</td>\n      <td>0.000000</td>\n      <td>0.000000</td>\n      <td>0.000000</td>\n      <td>2.276000</td>\n      <td>15.000000</td>\n      <td>95.000000</td>\n    </tr>\n    <tr>\n      <th>75%</th>\n      <td>0.000000</td>\n      <td>0.000000</td>\n      <td>0.420000</td>\n      <td>0.000000</td>\n      <td>0.380000</td>\n      <td>0.000000</td>\n      <td>0.000000</td>\n      <td>0.000000</td>\n      <td>0.000000</td>\n      <td>0.160000</td>\n      <td>...</td>\n      <td>0.000000</td>\n      <td>0.000000</td>\n      <td>0.188000</td>\n      <td>0.000000</td>\n      <td>0.315000</td>\n      <td>0.052000</td>\n      <td>0.000000</td>\n      <td>3.706000</td>\n      <td>43.000000</td>\n      <td>266.000000</td>\n    </tr>\n    <tr>\n      <th>max</th>\n      <td>4.540000</td>\n      <td>14.280000</td>\n      <td>5.100000</td>\n      <td>42.810000</td>\n      <td>10.000000</td>\n      <td>5.880000</td>\n      <td>7.270000</td>\n      <td>11.110000</td>\n      <td>5.260000</td>\n      <td>18.180000</td>\n      <td>...</td>\n      <td>10.000000</td>\n      <td>4.385000</td>\n      <td>9.752000</td>\n      <td>4.081000</td>\n      <td>32.478000</td>\n      <td>6.003000</td>\n      <td>19.829000</td>\n      <td>1102.500000</td>\n      <td>9989.000000</td>\n      <td>15841.000000</td>\n    </tr>\n  </tbody>\n</table>\n<p>8 rows × 57 columns</p>\n</div>"
     },
     "execution_count": 7,
     "metadata": {},
     "output_type": "execute_result"
    }
   ],
   "source": [
    "data.describe()"
   ],
   "metadata": {
    "collapsed": false
   }
  },
  {
   "cell_type": "code",
   "execution_count": 8,
   "outputs": [],
   "source": [
    "# INL\n",
    "from sklearn.preprocessing import StandardScaler # Standardizing the Spambase dataset before applying PCA\n",
    "\n",
    "scaler=StandardScaler()\n",
    "scaled_data=scaler.fit_transform(data)\n",
    "data_frame=pd.DataFrame(data=scaled_data, columns= data.columns)"
   ],
   "metadata": {
    "collapsed": false
   }
  },
  {
   "cell_type": "code",
   "execution_count": 9,
   "outputs": [
    {
     "data": {
      "text/plain": "       word_freq_make  word_freq_address  word_freq_all  word_freq_3d  \\\ncount    4.601000e+03       4.601000e+03   4.601000e+03  4.601000e+03   \nmean     4.844708e-15      -9.171827e-16  -4.647855e-15 -2.025297e-15   \nstd      1.000109e+00       1.000109e+00   1.000109e+00  1.000109e+00   \nmin     -3.424337e-01      -1.650719e-01  -5.567606e-01 -4.689958e-02   \n25%     -3.424337e-01      -1.650719e-01  -5.567606e-01 -4.689958e-02   \n50%     -3.424337e-01      -1.650719e-01  -5.567606e-01 -4.689958e-02   \n75%     -3.424337e-01      -1.650719e-01   2.764271e-01 -4.689958e-02   \nmax      1.452700e+01       1.090096e+01   9.560519e+00  3.064128e+01   \n\n       word_freq_our  word_freq_over  word_freq_remove  word_freq_internet  \\\ncount   4.601000e+03    4.601000e+03      4.601000e+03        4.601000e+03   \nmean    4.101503e-16    6.654727e-15     -1.007371e-14       -7.314056e-16   \nstd     1.000109e+00    1.000109e+00      1.000109e+00        1.000109e+00   \nmin    -4.643144e-01   -3.502662e-01     -2.917939e-01       -2.625616e-01   \n25%    -4.643144e-01   -3.502662e-01     -2.917939e-01       -2.625616e-01   \n50%    -4.643144e-01   -3.502662e-01     -2.917939e-01       -2.625616e-01   \n75%     1.007920e-01   -3.502662e-01     -2.917939e-01       -2.625616e-01   \nmax     1.440691e+01    2.112571e+01      1.828261e+01        2.744125e+01   \n\n       word_freq_order  word_freq_mail  ...  word_freq_conference  \\\ncount     4.601000e+03    4.601000e+03  ...          4.601000e+03   \nmean      5.750405e-15   -1.858689e-15  ...         -3.242890e-15   \nstd       1.000109e+00    1.000109e+00  ...          1.000109e+00   \nmin      -3.233024e-01   -3.713644e-01  ...         -1.115462e-01   \n25%      -3.233024e-01   -3.713644e-01  ...         -1.115462e-01   \n50%      -3.233024e-01   -3.713644e-01  ...         -1.115462e-01   \n75%      -3.233024e-01   -1.231813e-01  ...         -1.115462e-01   \nmax       1.855779e+01    2.782844e+01  ...          3.488976e+01   \n\n        char_freq_;   char_freq_(   char_freq_[   char_freq_!   char_freq_$  \\\ncount  4.601000e+03  4.601000e+03  4.601000e+03  4.601000e+03  4.601000e+03   \nmean   5.026818e-15 -9.130806e-16  1.540703e-16 -5.408971e-15  1.190610e-14   \nstd    1.000109e+00  1.000109e+00  1.000109e+00  1.000109e+00  1.000109e+00   \nmin   -1.584534e-01 -5.143065e-01 -1.551977e-01 -3.299123e-01 -3.083549e-01   \n25%   -1.584534e-01 -5.143065e-01 -1.551977e-01 -3.299123e-01 -3.083549e-01   \n50%   -1.584534e-01 -2.738561e-01 -1.551977e-01 -3.299123e-01 -3.083549e-01   \n75%   -1.584534e-01  1.811501e-01 -1.551977e-01  5.631450e-02 -9.684841e-02   \nmax    1.785384e+01  3.556066e+01  3.715432e+01  3.949191e+01  2.410845e+01   \n\n        char_freq_#  capital_run_length_average  capital_run_length_longest  \\\ncount  4.601000e+03                4.601000e+03                4.601000e+03   \nmean   2.507654e-16                5.297599e-16                1.560007e-16   \nstd    1.000109e+00                1.000109e+00                1.000109e+00   \nmin   -1.030484e-01               -1.321161e-01               -2.625994e-01   \n25%   -1.030484e-01               -1.135824e-01               -2.369413e-01   \n50%   -1.030484e-01               -9.189671e-02               -1.907567e-01   \n75%   -1.030484e-01               -4.682327e-02               -4.707129e-02   \nmax    4.608659e+01                3.458704e+01                5.099205e+01   \n\n       capital_run_length_total  \ncount              4.601000e+03  \nmean               1.989160e-16  \nstd                1.000109e+00  \nmin               -4.656073e-01  \n25%               -4.095278e-01  \n50%               -3.105639e-01  \n75%               -2.851691e-02  \nmax                2.566085e+01  \n\n[8 rows x 57 columns]",
      "text/html": "<div>\n<style scoped>\n    .dataframe tbody tr th:only-of-type {\n        vertical-align: middle;\n    }\n\n    .dataframe tbody tr th {\n        vertical-align: top;\n    }\n\n    .dataframe thead th {\n        text-align: right;\n    }\n</style>\n<table border=\"1\" class=\"dataframe\">\n  <thead>\n    <tr style=\"text-align: right;\">\n      <th></th>\n      <th>word_freq_make</th>\n      <th>word_freq_address</th>\n      <th>word_freq_all</th>\n      <th>word_freq_3d</th>\n      <th>word_freq_our</th>\n      <th>word_freq_over</th>\n      <th>word_freq_remove</th>\n      <th>word_freq_internet</th>\n      <th>word_freq_order</th>\n      <th>word_freq_mail</th>\n      <th>...</th>\n      <th>word_freq_conference</th>\n      <th>char_freq_;</th>\n      <th>char_freq_(</th>\n      <th>char_freq_[</th>\n      <th>char_freq_!</th>\n      <th>char_freq_$</th>\n      <th>char_freq_#</th>\n      <th>capital_run_length_average</th>\n      <th>capital_run_length_longest</th>\n      <th>capital_run_length_total</th>\n    </tr>\n  </thead>\n  <tbody>\n    <tr>\n      <th>count</th>\n      <td>4.601000e+03</td>\n      <td>4.601000e+03</td>\n      <td>4.601000e+03</td>\n      <td>4.601000e+03</td>\n      <td>4.601000e+03</td>\n      <td>4.601000e+03</td>\n      <td>4.601000e+03</td>\n      <td>4.601000e+03</td>\n      <td>4.601000e+03</td>\n      <td>4.601000e+03</td>\n      <td>...</td>\n      <td>4.601000e+03</td>\n      <td>4.601000e+03</td>\n      <td>4.601000e+03</td>\n      <td>4.601000e+03</td>\n      <td>4.601000e+03</td>\n      <td>4.601000e+03</td>\n      <td>4.601000e+03</td>\n      <td>4.601000e+03</td>\n      <td>4.601000e+03</td>\n      <td>4.601000e+03</td>\n    </tr>\n    <tr>\n      <th>mean</th>\n      <td>4.844708e-15</td>\n      <td>-9.171827e-16</td>\n      <td>-4.647855e-15</td>\n      <td>-2.025297e-15</td>\n      <td>4.101503e-16</td>\n      <td>6.654727e-15</td>\n      <td>-1.007371e-14</td>\n      <td>-7.314056e-16</td>\n      <td>5.750405e-15</td>\n      <td>-1.858689e-15</td>\n      <td>...</td>\n      <td>-3.242890e-15</td>\n      <td>5.026818e-15</td>\n      <td>-9.130806e-16</td>\n      <td>1.540703e-16</td>\n      <td>-5.408971e-15</td>\n      <td>1.190610e-14</td>\n      <td>2.507654e-16</td>\n      <td>5.297599e-16</td>\n      <td>1.560007e-16</td>\n      <td>1.989160e-16</td>\n    </tr>\n    <tr>\n      <th>std</th>\n      <td>1.000109e+00</td>\n      <td>1.000109e+00</td>\n      <td>1.000109e+00</td>\n      <td>1.000109e+00</td>\n      <td>1.000109e+00</td>\n      <td>1.000109e+00</td>\n      <td>1.000109e+00</td>\n      <td>1.000109e+00</td>\n      <td>1.000109e+00</td>\n      <td>1.000109e+00</td>\n      <td>...</td>\n      <td>1.000109e+00</td>\n      <td>1.000109e+00</td>\n      <td>1.000109e+00</td>\n      <td>1.000109e+00</td>\n      <td>1.000109e+00</td>\n      <td>1.000109e+00</td>\n      <td>1.000109e+00</td>\n      <td>1.000109e+00</td>\n      <td>1.000109e+00</td>\n      <td>1.000109e+00</td>\n    </tr>\n    <tr>\n      <th>min</th>\n      <td>-3.424337e-01</td>\n      <td>-1.650719e-01</td>\n      <td>-5.567606e-01</td>\n      <td>-4.689958e-02</td>\n      <td>-4.643144e-01</td>\n      <td>-3.502662e-01</td>\n      <td>-2.917939e-01</td>\n      <td>-2.625616e-01</td>\n      <td>-3.233024e-01</td>\n      <td>-3.713644e-01</td>\n      <td>...</td>\n      <td>-1.115462e-01</td>\n      <td>-1.584534e-01</td>\n      <td>-5.143065e-01</td>\n      <td>-1.551977e-01</td>\n      <td>-3.299123e-01</td>\n      <td>-3.083549e-01</td>\n      <td>-1.030484e-01</td>\n      <td>-1.321161e-01</td>\n      <td>-2.625994e-01</td>\n      <td>-4.656073e-01</td>\n    </tr>\n    <tr>\n      <th>25%</th>\n      <td>-3.424337e-01</td>\n      <td>-1.650719e-01</td>\n      <td>-5.567606e-01</td>\n      <td>-4.689958e-02</td>\n      <td>-4.643144e-01</td>\n      <td>-3.502662e-01</td>\n      <td>-2.917939e-01</td>\n      <td>-2.625616e-01</td>\n      <td>-3.233024e-01</td>\n      <td>-3.713644e-01</td>\n      <td>...</td>\n      <td>-1.115462e-01</td>\n      <td>-1.584534e-01</td>\n      <td>-5.143065e-01</td>\n      <td>-1.551977e-01</td>\n      <td>-3.299123e-01</td>\n      <td>-3.083549e-01</td>\n      <td>-1.030484e-01</td>\n      <td>-1.135824e-01</td>\n      <td>-2.369413e-01</td>\n      <td>-4.095278e-01</td>\n    </tr>\n    <tr>\n      <th>50%</th>\n      <td>-3.424337e-01</td>\n      <td>-1.650719e-01</td>\n      <td>-5.567606e-01</td>\n      <td>-4.689958e-02</td>\n      <td>-4.643144e-01</td>\n      <td>-3.502662e-01</td>\n      <td>-2.917939e-01</td>\n      <td>-2.625616e-01</td>\n      <td>-3.233024e-01</td>\n      <td>-3.713644e-01</td>\n      <td>...</td>\n      <td>-1.115462e-01</td>\n      <td>-1.584534e-01</td>\n      <td>-2.738561e-01</td>\n      <td>-1.551977e-01</td>\n      <td>-3.299123e-01</td>\n      <td>-3.083549e-01</td>\n      <td>-1.030484e-01</td>\n      <td>-9.189671e-02</td>\n      <td>-1.907567e-01</td>\n      <td>-3.105639e-01</td>\n    </tr>\n    <tr>\n      <th>75%</th>\n      <td>-3.424337e-01</td>\n      <td>-1.650719e-01</td>\n      <td>2.764271e-01</td>\n      <td>-4.689958e-02</td>\n      <td>1.007920e-01</td>\n      <td>-3.502662e-01</td>\n      <td>-2.917939e-01</td>\n      <td>-2.625616e-01</td>\n      <td>-3.233024e-01</td>\n      <td>-1.231813e-01</td>\n      <td>...</td>\n      <td>-1.115462e-01</td>\n      <td>-1.584534e-01</td>\n      <td>1.811501e-01</td>\n      <td>-1.551977e-01</td>\n      <td>5.631450e-02</td>\n      <td>-9.684841e-02</td>\n      <td>-1.030484e-01</td>\n      <td>-4.682327e-02</td>\n      <td>-4.707129e-02</td>\n      <td>-2.851691e-02</td>\n    </tr>\n    <tr>\n      <th>max</th>\n      <td>1.452700e+01</td>\n      <td>1.090096e+01</td>\n      <td>9.560519e+00</td>\n      <td>3.064128e+01</td>\n      <td>1.440691e+01</td>\n      <td>2.112571e+01</td>\n      <td>1.828261e+01</td>\n      <td>2.744125e+01</td>\n      <td>1.855779e+01</td>\n      <td>2.782844e+01</td>\n      <td>...</td>\n      <td>3.488976e+01</td>\n      <td>1.785384e+01</td>\n      <td>3.556066e+01</td>\n      <td>3.715432e+01</td>\n      <td>3.949191e+01</td>\n      <td>2.410845e+01</td>\n      <td>4.608659e+01</td>\n      <td>3.458704e+01</td>\n      <td>5.099205e+01</td>\n      <td>2.566085e+01</td>\n    </tr>\n  </tbody>\n</table>\n<p>8 rows × 57 columns</p>\n</div>"
     },
     "execution_count": 9,
     "metadata": {},
     "output_type": "execute_result"
    }
   ],
   "source": [
    "data_frame.describe()"
   ],
   "metadata": {
    "collapsed": false
   }
  },
  {
   "cell_type": "code",
   "execution_count": 10,
   "outputs": [],
   "source": [
    "#INL\n",
    "from sklearn.decomposition import PCA"
   ],
   "metadata": {
    "collapsed": false
   }
  },
  {
   "cell_type": "code",
   "execution_count": 11,
   "outputs": [],
   "source": [
    "# Applying PCA to the entire Spam base dataset\n",
    "pca = PCA(n_components=44)\n",
    "new_data = pca.fit_transform(data_set)\n",
    "principal_Df = pd.DataFrame(data = new_data\n",
    "                            , columns = ['PC1', 'PC2','PC3','PC4','PC5','PC6','PC7','PC8','PC9','PC10','PC11','PC12','PC13','PC14','PC15','PC16','PC17','PC18','PC19','PC20',\n",
    "                                         'PC21', 'PC22','PC23','PC24','PC25','PC26','PC27','PC28','PC29','PC30','PC31','PC32','PC33','PC34','PC35','PC36','PC37','PC38','PC39','PC40',\n",
    "                                         'PC41','PC42','PC43','PC44'])"
   ],
   "metadata": {
    "collapsed": false
   }
  },
  {
   "cell_type": "code",
   "execution_count": 12,
   "outputs": [
    {
     "data": {
      "text/plain": "           PC1         PC2        PC3       PC4       PC5       PC6       PC7  \\\n0    -3.786777    9.411931  -2.246397 -0.849664 -0.703833 -0.347192 -0.099744   \n1   742.632208  -74.001223  -0.567780 -0.683288 -1.784409  0.982324 -0.059833   \n2  2019.854156  102.077153 -23.776720  0.338761  0.042689 -0.381075 -0.213754   \n3   -93.048217    3.008749  -1.043395 -0.979383 -1.292518  0.446482 -0.038242   \n4   -93.048217    3.008747  -1.043393 -0.979344 -1.292434  0.446396 -0.038234   \n\n        PC8       PC9      PC10  ...      PC35      PC36      PC37      PC38  \\\n0  0.392486 -0.271531 -0.031186  ...  0.125776  0.002618 -0.026434  0.014782   \n1  0.328685 -0.253255 -0.130285  ... -0.050607 -0.056233 -0.005577  0.095812   \n2 -0.206323  0.176654 -0.425564  ... -0.328530  0.143390  0.121510 -0.410449   \n3 -0.114992  0.581871  0.134538  ...  0.421803 -0.062339 -0.012546  0.032266   \n4 -0.114968  0.581852  0.134580  ...  0.421830 -0.062090 -0.012568  0.032347   \n\n       PC39      PC40      PC41      PC42      PC43      PC44  \n0 -0.414190 -0.145299 -0.094876  0.202439  0.170692 -0.193726  \n1 -0.155650  0.376887  0.054418 -0.014411  0.028049 -0.122196  \n2  0.301152 -0.387824  0.212485 -0.273912 -0.395879  0.326831  \n3 -0.192227  0.142567 -0.113675  0.120062  0.216762  0.134580  \n4 -0.192313  0.142561 -0.113578  0.119987  0.216974  0.134750  \n\n[5 rows x 44 columns]",
      "text/html": "<div>\n<style scoped>\n    .dataframe tbody tr th:only-of-type {\n        vertical-align: middle;\n    }\n\n    .dataframe tbody tr th {\n        vertical-align: top;\n    }\n\n    .dataframe thead th {\n        text-align: right;\n    }\n</style>\n<table border=\"1\" class=\"dataframe\">\n  <thead>\n    <tr style=\"text-align: right;\">\n      <th></th>\n      <th>PC1</th>\n      <th>PC2</th>\n      <th>PC3</th>\n      <th>PC4</th>\n      <th>PC5</th>\n      <th>PC6</th>\n      <th>PC7</th>\n      <th>PC8</th>\n      <th>PC9</th>\n      <th>PC10</th>\n      <th>...</th>\n      <th>PC35</th>\n      <th>PC36</th>\n      <th>PC37</th>\n      <th>PC38</th>\n      <th>PC39</th>\n      <th>PC40</th>\n      <th>PC41</th>\n      <th>PC42</th>\n      <th>PC43</th>\n      <th>PC44</th>\n    </tr>\n  </thead>\n  <tbody>\n    <tr>\n      <th>0</th>\n      <td>-3.786777</td>\n      <td>9.411931</td>\n      <td>-2.246397</td>\n      <td>-0.849664</td>\n      <td>-0.703833</td>\n      <td>-0.347192</td>\n      <td>-0.099744</td>\n      <td>0.392486</td>\n      <td>-0.271531</td>\n      <td>-0.031186</td>\n      <td>...</td>\n      <td>0.125776</td>\n      <td>0.002618</td>\n      <td>-0.026434</td>\n      <td>0.014782</td>\n      <td>-0.414190</td>\n      <td>-0.145299</td>\n      <td>-0.094876</td>\n      <td>0.202439</td>\n      <td>0.170692</td>\n      <td>-0.193726</td>\n    </tr>\n    <tr>\n      <th>1</th>\n      <td>742.632208</td>\n      <td>-74.001223</td>\n      <td>-0.567780</td>\n      <td>-0.683288</td>\n      <td>-1.784409</td>\n      <td>0.982324</td>\n      <td>-0.059833</td>\n      <td>0.328685</td>\n      <td>-0.253255</td>\n      <td>-0.130285</td>\n      <td>...</td>\n      <td>-0.050607</td>\n      <td>-0.056233</td>\n      <td>-0.005577</td>\n      <td>0.095812</td>\n      <td>-0.155650</td>\n      <td>0.376887</td>\n      <td>0.054418</td>\n      <td>-0.014411</td>\n      <td>0.028049</td>\n      <td>-0.122196</td>\n    </tr>\n    <tr>\n      <th>2</th>\n      <td>2019.854156</td>\n      <td>102.077153</td>\n      <td>-23.776720</td>\n      <td>0.338761</td>\n      <td>0.042689</td>\n      <td>-0.381075</td>\n      <td>-0.213754</td>\n      <td>-0.206323</td>\n      <td>0.176654</td>\n      <td>-0.425564</td>\n      <td>...</td>\n      <td>-0.328530</td>\n      <td>0.143390</td>\n      <td>0.121510</td>\n      <td>-0.410449</td>\n      <td>0.301152</td>\n      <td>-0.387824</td>\n      <td>0.212485</td>\n      <td>-0.273912</td>\n      <td>-0.395879</td>\n      <td>0.326831</td>\n    </tr>\n    <tr>\n      <th>3</th>\n      <td>-93.048217</td>\n      <td>3.008749</td>\n      <td>-1.043395</td>\n      <td>-0.979383</td>\n      <td>-1.292518</td>\n      <td>0.446482</td>\n      <td>-0.038242</td>\n      <td>-0.114992</td>\n      <td>0.581871</td>\n      <td>0.134538</td>\n      <td>...</td>\n      <td>0.421803</td>\n      <td>-0.062339</td>\n      <td>-0.012546</td>\n      <td>0.032266</td>\n      <td>-0.192227</td>\n      <td>0.142567</td>\n      <td>-0.113675</td>\n      <td>0.120062</td>\n      <td>0.216762</td>\n      <td>0.134580</td>\n    </tr>\n    <tr>\n      <th>4</th>\n      <td>-93.048217</td>\n      <td>3.008747</td>\n      <td>-1.043393</td>\n      <td>-0.979344</td>\n      <td>-1.292434</td>\n      <td>0.446396</td>\n      <td>-0.038234</td>\n      <td>-0.114968</td>\n      <td>0.581852</td>\n      <td>0.134580</td>\n      <td>...</td>\n      <td>0.421830</td>\n      <td>-0.062090</td>\n      <td>-0.012568</td>\n      <td>0.032347</td>\n      <td>-0.192313</td>\n      <td>0.142561</td>\n      <td>-0.113578</td>\n      <td>0.119987</td>\n      <td>0.216974</td>\n      <td>0.134750</td>\n    </tr>\n  </tbody>\n</table>\n<p>5 rows × 44 columns</p>\n</div>"
     },
     "execution_count": 12,
     "metadata": {},
     "output_type": "execute_result"
    }
   ],
   "source": [
    "principal_Df.head()"
   ],
   "metadata": {
    "collapsed": false
   }
  },
  {
   "cell_type": "code",
   "execution_count": 13,
   "outputs": [],
   "source": [
    "#INL\n",
    "from sklearn.model_selection import train_test_split\n",
    "\n",
    "X = principal_Df.iloc[:, 0:44].values\n",
    "y = data_set.iloc[:, 57].values\n",
    "\n",
    "# Splitting the dataset into the Training set and Test set\n",
    "X_train, X_test, y_train, y_test = train_test_split(X, y, test_size=0.20, random_state=0)"
   ],
   "metadata": {
    "collapsed": false
   }
  },
  {
   "cell_type": "code",
   "execution_count": 14,
   "outputs": [],
   "source": [
    "# Applying PCA to reduce the number of features in the training set\n",
    "pca = PCA(n_components=10)\n",
    "X_train_pca = pca.fit_transform(X_train)\n",
    "\n",
    "# Applying the same PCA transformation to the testing set\n",
    "X_test_pca = pca.transform(X_test)\n"
   ],
   "metadata": {
    "collapsed": false
   }
  },
  {
   "cell_type": "code",
   "execution_count": 15,
   "outputs": [],
   "source": [
    "#INL\n",
    "import numpy as np\n",
    "import matplotlib.pyplot as plt\n",
    "from sklearn.decomposition import PCA"
   ],
   "metadata": {
    "collapsed": false
   }
  },
  {
   "cell_type": "code",
   "execution_count": 16,
   "outputs": [
    {
     "data": {
      "text/plain": "<Figure size 640x480 with 1 Axes>",
      "image/png": "[encoded data removed]"
     },
     "metadata": {},
     "output_type": "display_data"
    }
   ],
   "source": [
    "#The plot used to determine the number of principal components to keep in order to retain a certain amount of variance in the data \"Performing Principal Component Analysis (PCA) on the DataFrame\".\n",
    "\n",
    "pca = PCA()\n",
    "principalComponents = pca.fit_transform(data_frame)\n",
    "plt.figure()\n",
    "plt.plot(np.cumsum(pca.explained_variance_ratio_))\n",
    "plt.xlabel('Number of Component')\n",
    "plt.ylabel('Variance (%)')\n",
    "plt.title('Explained Variance')\n",
    "plt.show()"
   ],
   "metadata": {
    "collapsed": false
   }
  },
  {
   "cell_type": "code",
   "execution_count": 17,
   "outputs": [],
   "source": [
    "# --------------------------- KNN CLASSIFICATION ----------------------------------"
   ],
   "metadata": {
    "collapsed": false
   }
  },
  {
   "cell_type": "code",
   "execution_count": 57,
   "outputs": [],
   "source": [
    "from sklearn.neighbors import KNeighborsClassifier"
   ],
   "metadata": {
    "collapsed": false
   }
  },
  {
   "cell_type": "code",
   "execution_count": 58,
   "outputs": [
    {
     "data": {
      "text/plain": "KNeighborsClassifier()"
     },
     "execution_count": 58,
     "metadata": {},
     "output_type": "execute_result"
    }
   ],
   "source": [
    "# Train the KNN model\n",
    "knn = KNeighborsClassifier(n_neighbors=5)\n",
    "knn.fit(X_train, y_train)"
   ],
   "metadata": {
    "collapsed": false
   }
  },
  {
   "cell_type": "code",
   "execution_count": 59,
   "outputs": [],
   "source": [
    "# Predict using the KNN model\n",
    "y_pred = knn.predict(X_test)"
   ],
   "metadata": {
    "collapsed": false
   }
  },
  {
   "cell_type": "code",
   "execution_count": 21,
   "outputs": [],
   "source": [
    "#Find optimal K value"
   ],
   "metadata": {
    "collapsed": false
   }
  },
  {
   "cell_type": "code",
   "execution_count": 60,
   "outputs": [
    {
     "name": "stdout",
     "output_type": "stream",
     "text": [
      "Best K value: 1\n"
     ]
    }
   ],
   "source": [
    "from sklearn.model_selection import cross_val_score\n",
    "from sklearn.neighbors import KNeighborsClassifier\n",
    "import warnings\n",
    "import numpy as np\n",
    "\n",
    "warnings.filterwarnings('ignore')\n",
    "\n",
    "k_values = list(range(1, 51, 2))\n",
    "cv_scores = []\n",
    "\n",
    "for k in k_values:\n",
    "    knn = KNeighborsClassifier(n_neighbors=k)\n",
    "    scores = cross_val_score(knn, X_train, y_train, cv=10, scoring='accuracy')\n",
    "    cv_scores.append(np.mean(scores))\n",
    "\n",
    "best_k = k_values[cv_scores.index(max(cv_scores))]\n",
    "print(f\"Best K value: {best_k}\")\n"
   ],
   "metadata": {
    "collapsed": false
   }
  },
  {
   "cell_type": "code",
   "execution_count": null,
   "outputs": [],
   "source": [
    "#Perform 10-fold cross validation"
   ],
   "metadata": {
    "collapsed": false
   }
  },
  {
   "cell_type": "code",
   "execution_count": 61,
   "outputs": [
    {
     "name": "stdout",
     "output_type": "stream",
     "text": [
      "The optimal number of K neighbors = 3 \n",
      "Accuracy on test data = 0.814332\n"
     ]
    }
   ],
   "source": [
    "neighbors = []                                                              # Empty list to store neighbors\n",
    "cv_scores = []                                                              # Empty list to store scores\n",
    "\n",
    "# Perform 10-fold cross validation with K=5 for KNN (the n_neighbors parameter)\n",
    "\n",
    "for k in range(1, 51, 2):                                                   # Range of K we want to try\n",
    "    neighbors.append(k)\n",
    "    knn = KNeighborsClassifier(n_neighbors=k, weights='distance')           # Use 'distance' weighting\n",
    "    scores = cross_val_score(knn, X_train, y_train, cv=10, scoring='accuracy')\n",
    "    cv_scores.append(scores.mean())\n",
    "\n",
    "# Determine the best k value\n",
    "optimal_k = neighbors[cv_scores.index(max(cv_scores))]\n",
    "print('The optimal number of K neighbors = %d ' %optimal_k)\n",
    "\n",
    "# Train the KNN model with the best k value and evaluate on test data\n",
    "knn = KNeighborsClassifier(n_neighbors=optimal_k, weights='distance')\n",
    "knn.fit(X_train, y_train)\n",
    "acc = knn.score(X_test, y_test)\n",
    "print('Accuracy on test data = %f' %acc)\n"
   ],
   "metadata": {
    "collapsed": false
   }
  },
  {
   "cell_type": "code",
   "execution_count": 62,
   "outputs": [
    {
     "name": "stdout",
     "output_type": "stream",
     "text": [
      "The optimal number of K neighbors = 3 \n"
     ]
    },
    {
     "data": {
      "text/plain": "<Figure size 1500x600 with 1 Axes>",
      "image/png": "[encoded data removed]"
     },
     "metadata": {},
     "output_type": "display_data"
    }
   ],
   "source": [
    "# Miss Classification error versus k\n",
    "MSE = [1-x for x in cv_scores]                                               # Changing to Miss Classification error\n",
    "\n",
    "# Determining the best k value\n",
    "optimal_k = neighbors[MSE.index(min(MSE))]\n",
    "print('The optimal number of K neighbors = %d ' %optimal_k)\n",
    "\n",
    "# Plot Miss Classification error versus k\n",
    "plt.figure(figsize = (15,6))\n",
    "plt.plot(neighbors, MSE)\n",
    "plt.xlabel('Number of K neighbors')\n",
    "plt.ylabel('Miss Classification Error')\n",
    "plt.show()"
   ],
   "metadata": {
    "collapsed": false
   }
  },
  {
   "cell_type": "code",
   "execution_count": 63,
   "outputs": [
    {
     "name": "stdout",
     "output_type": "stream",
     "text": [
      "Classification Report : \n",
      "\n",
      "\n",
      "              precision    recall  f1-score   support\n",
      "\n",
      "           0       0.82      0.86      0.84       538\n",
      "           1       0.79      0.73      0.76       383\n",
      "\n",
      "    accuracy                           0.81       921\n",
      "   macro avg       0.80      0.79      0.80       921\n",
      "weighted avg       0.80      0.81      0.80       921\n",
      "\n"
     ]
    }
   ],
   "source": [
    "# Generate summary of the prediction (Classification Report) made by the classifier\n",
    "from sklearn.metrics import classification_report\n",
    "\n",
    "print('Classification Report : \\n\\n')\n",
    "print(classification_report(y_test, y_pred))"
   ],
   "metadata": {
    "collapsed": false
   }
  },
  {
   "cell_type": "code",
   "execution_count": 66,
   "outputs": [
    {
     "name": "stdout",
     "output_type": "stream",
     "text": [
      "Accuracy score of using KNN :  81.43322475570032\n"
     ]
    }
   ],
   "source": [
    "# Accuracy score of the prediction\n",
    "from sklearn.metrics import accuracy_score\n",
    "print(\"Accuracy score of using KNN : \",acc*100)"
   ],
   "metadata": {
    "collapsed": false
   }
  },
  {
   "cell_type": "code",
   "execution_count": null,
   "outputs": [],
   "source": [
    "# --------------------------------- Decision Trees --------------------------------"
   ],
   "metadata": {
    "collapsed": false
   }
  },
  {
   "cell_type": "code",
   "execution_count": 42,
   "outputs": [],
   "source": [
    "# Importing necessary libraries\n",
    "from sklearn.metrics import accuracy_score\n",
    "from sklearn.tree import DecisionTreeClassifier\n",
    "from sklearn.model_selection import GridSearchCV"
   ],
   "metadata": {
    "collapsed": false
   }
  },
  {
   "cell_type": "code",
   "execution_count": 43,
   "outputs": [
    {
     "data": {
      "text/plain": "DecisionTreeClassifier(max_depth=5, random_state=42)"
     },
     "execution_count": 43,
     "metadata": {},
     "output_type": "execute_result"
    }
   ],
   "source": [
    "# Training the Decision Tree model\n",
    "dt = DecisionTreeClassifier(criterion='gini', max_depth=5, random_state=42)\n",
    "dt.fit(X_train, y_train)\n"
   ],
   "metadata": {
    "collapsed": false
   }
  },
  {
   "cell_type": "code",
   "execution_count": 51,
   "outputs": [],
   "source": [
    "# Define the hyperparameters to search over\n",
    "param_grid = {\n",
    "    'max_depth': [1, 2, 3, 4, 5],\n",
    "    'min_samples_split': [2, 4, 6, 8],\n",
    "    'min_samples_leaf': [1, 2, 3, 4],\n",
    "    'max_leaf_nodes': [None, 5, 10, 20]\n",
    "}"
   ],
   "metadata": {
    "collapsed": false
   }
  },
  {
   "cell_type": "code",
   "execution_count": 52,
   "outputs": [
    {
     "data": {
      "text/plain": "GridSearchCV(cv=5,\n             estimator=DecisionTreeClassifier(max_depth=5, random_state=42),\n             param_grid={'max_depth': [1, 2, 3, 4, 5],\n                         'max_leaf_nodes': [None, 5, 10, 20],\n                         'min_samples_leaf': [1, 2, 3, 4],\n                         'min_samples_split': [2, 4, 6, 8]},\n             scoring='accuracy')"
     },
     "execution_count": 52,
     "metadata": {},
     "output_type": "execute_result"
    }
   ],
   "source": [
    "# Perform grid search with cross-validation\n",
    "grid_search = GridSearchCV(dt, param_grid, cv=5, scoring='accuracy')\n",
    "grid_search.fit(X_train, y_train)"
   ],
   "metadata": {
    "collapsed": false
   }
  },
  {
   "cell_type": "code",
   "execution_count": 53,
   "outputs": [
    {
     "name": "stdout",
     "output_type": "stream",
     "text": [
      "Best hyperparameters:  {'max_depth': 5, 'max_leaf_nodes': None, 'min_samples_leaf': 1, 'min_samples_split': 8}\n"
     ]
    }
   ],
   "source": [
    "# Print the best hyperparameters and the corresponding score\n",
    "print(\"Best hyperparameters: \", grid_search.best_params_)"
   ],
   "metadata": {
    "collapsed": false
   }
  },
  {
   "cell_type": "code",
   "execution_count": 54,
   "outputs": [
    {
     "name": "stdout",
     "output_type": "stream",
     "text": [
      "Accuracy score of using Decision Trees :  90.59782608695653\n"
     ]
    }
   ],
   "source": [
    "# Accuracy score of the prediction\n",
    "from sklearn.metrics import accuracy_score\n",
    "print(\"Accuracy score of using Decision Trees : \",grid_search.best_score_*100)"
   ],
   "metadata": {
    "collapsed": false
   }
  }
 ],
 "metadata": {
  "kernelspec": {
   "display_name": "Python 3",
   "language": "python",
   "name": "python3"
  },
  "language_info": {
   "codemirror_mode": {
    "name": "ipython",
    "version": 2
   },
   "file_extension": ".py",
   "mimetype": "text/x-python",
   "name": "python",
   "nbconvert_exporter": "python",
   "pygments_lexer": "ipython2",
   "version": "2.7.6"
  }
 },
 "nbformat": 4,
 "nbformat_minor": 0
}
